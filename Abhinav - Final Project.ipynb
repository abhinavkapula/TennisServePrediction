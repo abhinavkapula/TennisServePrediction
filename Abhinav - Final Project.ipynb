{
 "cells": [
  {
   "cell_type": "code",
   "execution_count": 1,
   "metadata": {
    "collapsed": true
   },
   "outputs": [],
   "source": [
    "#Import numpy/Pandas\n",
    "import os\n",
    "import numpy as np\n",
    "import pandas as pd\n",
    "pd.set_option('display.max_rows', None)\n",
    "pd.set_option('display.max_columns', None)\n",
    "\n",
    "#Import Plots\n",
    "import matplotlib.pyplot as plt\n",
    "import seaborn as sns\n",
    "%matplotlib inline\n",
    "plt.rcParams['figure.figsize'] = (15,5)\n",
    "sns.set(context=\"paper\", font=\"monospace\")\n",
    "\n",
    "import warnings\n",
    "warnings.filterwarnings('ignore')"
   ]
  },
  {
   "cell_type": "code",
   "execution_count": 2,
   "metadata": {
    "collapsed": true
   },
   "outputs": [],
   "source": [
    "#Reading the file into a dataframe\n",
    "df = pd.read_csv('https://raw.githubusercontent.com/JeffSackmann/tennis_MatchChartingProject/master/charting-m-points.csv', encoding = \"ISO-8859-1\")"
   ]
  },
  {
   "cell_type": "code",
   "execution_count": 3,
   "metadata": {
    "collapsed": true
   },
   "outputs": [],
   "source": [
    "#Creating a dataframe with contains Roger Federer match.\n",
    "df = df[df['match_id'].str.contains(\"Roger_Federer\")]\n",
    "\n",
    "#Split the match_id on \"-\" and split the match id, First Player and Second Player name\n",
    "df_new = df['match_id'].str.split(\"-\")"
   ]
  },
  {
   "cell_type": "code",
   "execution_count": 5,
   "metadata": {
    "collapsed": true
   },
   "outputs": [],
   "source": [
    "#Create a rallyLen List from the dataframe. \n",
    "rallyLen = list(df['rallyLen'])\n",
    "\n",
    "#Creating a First Player List which contain the name of the first player and storing into the dataframe.\n",
    "firstPlayer = []\n",
    "for i, player in enumerate(df_new):\n",
    "    firstPlayer.append(player[4])\n",
    "\n",
    "df['First Player'] = firstPlayer    \n",
    "\n",
    "#Creating a Second Player List which contain the name of the second player and storing into the dataframe.\n",
    "secondPlayer = []\n",
    "for i, player in enumerate(df_new):\n",
    "    secondPlayer.append(player[5])\n",
    "\n",
    "df['Second Player'] = secondPlayer    \n",
    "    \n",
    "#Creating a matchIdList which contains each match id and storing into the dataframe.   \n",
    "matchIdList = []\n",
    "for i, Id in enumerate(df_new):\n",
    "    matchIdList.append(Id[0])\n",
    "\n",
    "df['MatchId'] = matchIdList\n",
    "\n",
    "#Creating the Previous Rally Lenght list - Which contains the rally len of the previous rally. If it is a new match the previuos\n",
    "#preivous rally lenght is 0. \n",
    "perviousRalleyLen = []\n",
    "matchId = 0 \n",
    "for i, Id in enumerate(matchIdList):\n",
    "    j = i - 1\n",
    "    if Id == matchId:\n",
    "        perviousRalleyLen.append(rallyLen[j])\n",
    "    else:\n",
    "        perviousRalleyLen.append(0)\n",
    "    matchId = Id\n",
    "    \n",
    "df['Pervious_Rally_Len'] = perviousRalleyLen\n",
    "\n",
    "#Creating a dataFrame with Roger Feder is Serving.\n",
    "df = df[df['Serving'].str.contains(\"RF\")]"
   ]
  },
  {
   "cell_type": "code",
   "execution_count": 6,
   "metadata": {
    "collapsed": true
   },
   "outputs": [],
   "source": [
    "#Deuce - Right side of the court\n",
    "deuceScores = ['0-0', '15-15', '30-0', '0-30', '40-15', '15-40', '40-40']\n",
    "pts = list(df[\"Pts\"])\n",
    "isDueceCourt = []\n",
    "for pt in pts:    \n",
    "    if pt in deuceScores:\n",
    "        isDueceCourt.append(1)\n",
    "    else:\n",
    "        isDueceCourt.append(0)\n",
    "\n",
    "df[\"Is_Due_Court\"] = isDueceCourt"
   ]
  },
  {
   "cell_type": "code",
   "execution_count": 7,
   "metadata": {
    "collapsed": true
   },
   "outputs": [],
   "source": [
    "#Creating a list PtWinner(Point Winner), FirstPlayer(First Player Name) and matchId(Match Id) List.\n",
    "ptWinner = list(df[\"PtWinner\"])\n",
    "firstPlayer = list(df[\"First Player\"])\n",
    "matchIdList = list(df[\"MatchId\"])"
   ]
  },
  {
   "cell_type": "code",
   "execution_count": 8,
   "metadata": {
    "collapsed": true
   },
   "outputs": [],
   "source": [
    "#Creating a Winner List which contains the name of player who won that Point. \n",
    "winnerList = []\n",
    "for i, player in enumerate(firstPlayer):\n",
    "    if firstPlayer == \"Roger_Federer\" and ptWinner[i] == 1:\n",
    "        winnerList.append(\"RF\")\n",
    "    elif firstPlayer != \"Roger_Federer\" and ptWinner[i] == 2:\n",
    "        winnerList.append(\"RF\")\n",
    "    else:\n",
    "        winnerList.append(\"OPP\")\n",
    "        \n",
    "winnerList2 = []\n",
    "matchId = 0 \n",
    "for i, Id in enumerate(matchIdList):\n",
    "    j = i - 1\n",
    "    if Id == matchId:\n",
    "        winnerList2.append(winnerList[j])\n",
    "    else:\n",
    "        winnerList2.append(\"O\")\n",
    "    matchId = Id         "
   ]
  },
  {
   "cell_type": "code",
   "execution_count": 9,
   "metadata": {
    "collapsed": true
   },
   "outputs": [],
   "source": [
    "#Data type conversion\n",
    "df['Gm2'] = df['Gm2'].apply(np.int64)\n",
    "df[\"Winner\"] = winnerList2\n",
    "df['1st'] = df['1st'].str[0]\n",
    "df['2nd'] = df['2nd'].str[0]"
   ]
  },
  {
   "cell_type": "code",
   "execution_count": 10,
   "metadata": {
    "collapsed": true
   },
   "outputs": [],
   "source": [
    "#Creating - GM_RF and GM_Opp\n",
    "gm_rf = []\n",
    "gm_opp = []\n",
    "for index, row in df.iterrows():\n",
    "    if row['First Player'] == 'Roger_Federer':\n",
    "        gm_rf.append(row['Gm1'])\n",
    "        gm_opp.append(row['Gm2'])\n",
    "    else:\n",
    "        gm_rf.append(row['Gm2'])\n",
    "        gm_opp.append(row['Gm1'])"
   ]
  },
  {
   "cell_type": "code",
   "execution_count": 11,
   "metadata": {
    "collapsed": true
   },
   "outputs": [],
   "source": [
    "df['Gm_RF'] = gm_rf\n",
    "df['Gm_Opp'] = gm_opp"
   ]
  },
  {
   "cell_type": "code",
   "execution_count": 12,
   "metadata": {
    "collapsed": true
   },
   "outputs": [],
   "source": [
    "#Creating Set_RF and Set_Opp\n",
    "set_rf = []\n",
    "set_opp = []\n",
    "for index, row in df.iterrows():\n",
    "    if row['First Player'] == 'Roger_Federer':\n",
    "        set_rf.append(row['Set1'])\n",
    "        set_opp.append(row['Set2'])\n",
    "    else:\n",
    "        set_rf.append(row['Set2'])\n",
    "        set_opp.append(row['Set1'])"
   ]
  },
  {
   "cell_type": "code",
   "execution_count": 13,
   "metadata": {
    "collapsed": true
   },
   "outputs": [],
   "source": [
    "df['Set_RF'] = set_rf\n",
    "df['Set_Opp'] = set_opp\n",
    "df_pts = df['Pts'].str.split(\"-\")"
   ]
  },
  {
   "cell_type": "code",
   "execution_count": 14,
   "metadata": {
    "collapsed": true
   },
   "outputs": [],
   "source": [
    "#Points - Rafael Federer\n",
    "pts_rf = []\n",
    "\n",
    "for pt in df_pts:\n",
    "    pt_rf = pt[0]\n",
    "    \n",
    "    if pt_rf == \"AD\":\n",
    "        pts_rf.append(\"50\")\n",
    "    else:\n",
    "        pts_rf.append(pt_rf)\n",
    "\n",
    "df['Pts_RF'] = pts_rf\n",
    "\n",
    "#Points - Opposite Player\n",
    "pts_opp = []\n",
    "\n",
    "for pt in df_pts:\n",
    "    pt_opp = pt[1]\n",
    "    \n",
    "    if pt_opp == \"AD\":\n",
    "        pts_opp.append(\"50\")\n",
    "    else:\n",
    "        pts_opp.append(pt_opp)\n",
    "        \n",
    "df['Pts_Opp'] = pts_opp    "
   ]
  },
  {
   "cell_type": "code",
   "execution_count": 15,
   "metadata": {
    "collapsed": true
   },
   "outputs": [],
   "source": [
    "#Creating a dataframe with important features\n",
    "df = df[['Set_RF', 'Set_Opp', 'Gm_RF', 'Gm_Opp','Pts_RF', 'Pts_Opp', '1st', 'Pervious_Rally_Len', 'Winner', 'Is_Due_Court']]"
   ]
  },
  {
   "cell_type": "code",
   "execution_count": 16,
   "metadata": {
    "collapsed": true
   },
   "outputs": [],
   "source": [
    "#Data type conversion\n",
    "df = df[df['1st'].apply(lambda x: x.isnumeric())]\n",
    "df = df[df['Pts_Opp'].apply(lambda x: x.isnumeric())]\n",
    "df = df.reset_index()\n",
    "df = df.drop(['index'], axis = 1)"
   ]
  },
  {
   "cell_type": "code",
   "execution_count": 17,
   "metadata": {
    "collapsed": true
   },
   "outputs": [],
   "source": [
    "#Data type conversion\n",
    "df['Gm_RF'] = df['Gm_RF'].apply(np.int64)\n",
    "df['Gm_Opp'] = df['Gm_Opp'].apply(np.int64)\n",
    "df['Pts_RF'] = df['Pts_RF'].apply(np.int64)\n",
    "df['Pts_Opp'] = df['Pts_Opp'].apply(np.int64)\n",
    "df['Pervious_Rally_Len'] = df['Pervious_Rally_Len'].apply(np.int64)\n",
    "df['Winner'] = pd.factorize(df['Winner'])[0] + 1\n",
    "df[\"Serve\"] = df[\"1st\"]\n",
    "df = df.drop('1st', axis = 1)\n",
    "df[\"Serve\"] = df [\"Serve\"].apply(np.int64)"
   ]
  },
  {
   "cell_type": "code",
   "execution_count": 18,
   "metadata": {},
   "outputs": [
    {
     "data": {
      "text/html": [
       "<div>\n",
       "<style scoped>\n",
       "    .dataframe tbody tr th:only-of-type {\n",
       "        vertical-align: middle;\n",
       "    }\n",
       "\n",
       "    .dataframe tbody tr th {\n",
       "        vertical-align: top;\n",
       "    }\n",
       "\n",
       "    .dataframe thead th {\n",
       "        text-align: right;\n",
       "    }\n",
       "</style>\n",
       "<table border=\"1\" class=\"dataframe\">\n",
       "  <thead>\n",
       "    <tr style=\"text-align: right;\">\n",
       "      <th></th>\n",
       "      <th>Set_RF</th>\n",
       "      <th>Set_Opp</th>\n",
       "      <th>Gm_RF</th>\n",
       "      <th>Gm_Opp</th>\n",
       "      <th>Pts_RF</th>\n",
       "      <th>Pts_Opp</th>\n",
       "      <th>Pervious_Rally_Len</th>\n",
       "      <th>Winner</th>\n",
       "      <th>Is_Due_Court</th>\n",
       "      <th>Serve</th>\n",
       "    </tr>\n",
       "  </thead>\n",
       "  <tbody>\n",
       "    <tr>\n",
       "      <th>0</th>\n",
       "      <td>0</td>\n",
       "      <td>0</td>\n",
       "      <td>0</td>\n",
       "      <td>1</td>\n",
       "      <td>0</td>\n",
       "      <td>0</td>\n",
       "      <td>3</td>\n",
       "      <td>1</td>\n",
       "      <td>1</td>\n",
       "      <td>4</td>\n",
       "    </tr>\n",
       "    <tr>\n",
       "      <th>1</th>\n",
       "      <td>0</td>\n",
       "      <td>0</td>\n",
       "      <td>0</td>\n",
       "      <td>1</td>\n",
       "      <td>15</td>\n",
       "      <td>0</td>\n",
       "      <td>0</td>\n",
       "      <td>2</td>\n",
       "      <td>0</td>\n",
       "      <td>4</td>\n",
       "    </tr>\n",
       "    <tr>\n",
       "      <th>2</th>\n",
       "      <td>0</td>\n",
       "      <td>0</td>\n",
       "      <td>0</td>\n",
       "      <td>1</td>\n",
       "      <td>15</td>\n",
       "      <td>15</td>\n",
       "      <td>6</td>\n",
       "      <td>3</td>\n",
       "      <td>1</td>\n",
       "      <td>4</td>\n",
       "    </tr>\n",
       "    <tr>\n",
       "      <th>3</th>\n",
       "      <td>0</td>\n",
       "      <td>0</td>\n",
       "      <td>0</td>\n",
       "      <td>1</td>\n",
       "      <td>30</td>\n",
       "      <td>15</td>\n",
       "      <td>3</td>\n",
       "      <td>2</td>\n",
       "      <td>0</td>\n",
       "      <td>4</td>\n",
       "    </tr>\n",
       "    <tr>\n",
       "      <th>4</th>\n",
       "      <td>0</td>\n",
       "      <td>0</td>\n",
       "      <td>0</td>\n",
       "      <td>1</td>\n",
       "      <td>30</td>\n",
       "      <td>30</td>\n",
       "      <td>4</td>\n",
       "      <td>3</td>\n",
       "      <td>0</td>\n",
       "      <td>4</td>\n",
       "    </tr>\n",
       "  </tbody>\n",
       "</table>\n",
       "</div>"
      ],
      "text/plain": [
       "   Set_RF  Set_Opp  Gm_RF  Gm_Opp  Pts_RF  Pts_Opp  Pervious_Rally_Len  \\\n",
       "0       0        0      0       1       0        0                   3   \n",
       "1       0        0      0       1      15        0                   0   \n",
       "2       0        0      0       1      15       15                   6   \n",
       "3       0        0      0       1      30       15                   3   \n",
       "4       0        0      0       1      30       30                   4   \n",
       "\n",
       "   Winner  Is_Due_Court  Serve  \n",
       "0       1             1      4  \n",
       "1       2             0      4  \n",
       "2       3             1      4  \n",
       "3       2             0      4  \n",
       "4       3             0      4  "
      ]
     },
     "execution_count": 18,
     "metadata": {},
     "output_type": "execute_result"
    }
   ],
   "source": [
    "df.head(n = 5)"
   ]
  },
  {
   "cell_type": "code",
   "execution_count": 19,
   "metadata": {
    "collapsed": true
   },
   "outputs": [],
   "source": [
    "#Remove outlier by taking only 4, 5 and 6 in y(Predictor variable).\n",
    "df = df[df.Serve > 3]"
   ]
  },
  {
   "cell_type": "code",
   "execution_count": 32,
   "metadata": {},
   "outputs": [
    {
     "data": {
      "text/plain": [
       "<matplotlib.axes._subplots.AxesSubplot at 0x1249bdfd0>"
      ]
     },
     "execution_count": 32,
     "metadata": {},
     "output_type": "execute_result"
    },
    {
     "data": {
      "image/png": "[encoded data removed]",
      "text/plain": [
       "<Figure size 432x288 with 1 Axes>"
      ]
     },
     "metadata": {},
     "output_type": "display_data"
    }
   ],
   "source": [
    "#Countind the Different Serve type\n",
    "pd.value_counts(df['Serve']).plot.bar()"
   ]
  },
  {
   "cell_type": "code",
   "execution_count": 33,
   "metadata": {},
   "outputs": [
    {
     "data": {
      "text/plain": [
       "<matplotlib.axes._subplots.AxesSubplot at 0x1249634a8>"
      ]
     },
     "execution_count": 33,
     "metadata": {},
     "output_type": "execute_result"
    },
    {
     "data": {
      "image/png": "[encoded data removed]",
      "text/plain": [
       "<Figure size 864x648 with 2 Axes>"
      ]
     },
     "metadata": {},
     "output_type": "display_data"
    }
   ],
   "source": [
    "#Heat Map to see the correlation between diffrent variables\n",
    "#Find the correlation between the different varaibles in the datasets\n",
    "cormat = df.corr()\n",
    "\n",
    "#Set uo the matplolib figure\n",
    "f, ax = plt.subplots(figsize=(12, 9))\n",
    "\n",
    "#Draw the heatmap using seaborn\n",
    "colormap = plt.cm.viridis\n",
    "sns.heatmap(cormat, linewidths=0.1, cmap = colormap, \n",
    "            linecolor = 'White', vmax=0.8, annot=True)"
   ]
  },
  {
   "cell_type": "code",
   "execution_count": 34,
   "metadata": {
    "collapsed": true
   },
   "outputs": [],
   "source": [
    "from sklearn.model_selection import train_test_split\n",
    "from sklearn.neighbors import KNeighborsClassifier\n",
    "from sklearn.tree import DecisionTreeClassifier\n",
    "from sklearn.ensemble import RandomForestClassifier\n",
    "from sklearn.preprocessing import Normalizer"
   ]
  },
  {
   "cell_type": "code",
   "execution_count": 35,
   "metadata": {
    "collapsed": true
   },
   "outputs": [],
   "source": [
    "#Split the data into predictor variable and target variable\n",
    "X = df.drop('Serve', axis = 1).values\n",
    "y = df['Serve'].values"
   ]
  },
  {
   "cell_type": "code",
   "execution_count": 36,
   "metadata": {
    "collapsed": true
   },
   "outputs": [],
   "source": [
    "#Split the data into train and test.\n",
    "X_train, X_test, y_train, y_test = train_test_split(X, y, test_size = 0.33, random_state = 42, stratify = y)"
   ]
  },
  {
   "cell_type": "code",
   "execution_count": 37,
   "metadata": {},
   "outputs": [
    {
     "name": "stdout",
     "output_type": "stream",
     "text": [
      "KNeighbours Classifier is 67.76\n"
     ]
    }
   ],
   "source": [
    "#KNeighbors Classifier\n",
    "knn = KNeighborsClassifier(n_neighbors = 3)\n",
    "knn.fit(X_train, y_train)\n",
    "y_pred = knn.predict(X_test)\n",
    "acc_knn = round(knn.score(X_train, y_train)* 100, 2)\n",
    "print(\"KNeighbours Classifier is %2.2f\" %acc_knn)"
   ]
  },
  {
   "cell_type": "code",
   "execution_count": 38,
   "metadata": {},
   "outputs": [
    {
     "name": "stdout",
     "output_type": "stream",
     "text": [
      "Decision Tree is 85.17\n"
     ]
    }
   ],
   "source": [
    "#Descicion Tree\n",
    "decision_tree = DecisionTreeClassifier()\n",
    "decision_tree.fit(X_train, y_train)\n",
    "y_pred = decision_tree.predict(X_test)\n",
    "acc_decision_tree = round(decision_tree.score(X_train, y_train)*100, 2)\n",
    "print(\"Decision Tree is %2.2f\" %acc_decision_tree)"
   ]
  },
  {
   "cell_type": "code",
   "execution_count": 39,
   "metadata": {},
   "outputs": [
    {
     "name": "stdout",
     "output_type": "stream",
     "text": [
      "Random Forest Classifier is 85.17\n"
     ]
    }
   ],
   "source": [
    "#Random Forest Classifier\n",
    "random_forest = RandomForestClassifier(n_estimators=100)\n",
    "random_forest.fit(X_train, y_train)\n",
    "y_pred = random_forest.predict(X_test)\n",
    "random_forest.score(X_train, y_train)\n",
    "acc_random_forest = round(random_forest.score(X_train, y_train)*100, 2)\n",
    "print(\"Random Forest Classifier is %2.2f\" %acc_random_forest)"
   ]
  },
  {
   "cell_type": "code",
   "execution_count": 40,
   "metadata": {},
   "outputs": [
    {
     "name": "stdout",
     "output_type": "stream",
     "text": [
      "[4]\n"
     ]
    }
   ],
   "source": [
    "#Testing - TestCase1 - Output - 4\n",
    "x_test = np.array([0, 0, 0, 1, 30, 15, 3, 2, 0]).reshape(1, -1)\n",
    "y_pred_test = random_forest.predict(x_test)\n",
    "print(y_pred_test)"
   ]
  },
  {
   "cell_type": "code",
   "execution_count": 41,
   "metadata": {},
   "outputs": [
    {
     "name": "stdout",
     "output_type": "stream",
     "text": [
      "[6]\n"
     ]
    }
   ],
   "source": [
    "#Testing - TestCase2 - Output - 6\n",
    "x_test_1 = np.array([0, 1, 2, 2, 0, 40, 2, 3, 0]).reshape(1, -1)\n",
    "y_pred_test = random_forest.predict(x_test_1)\n",
    "print(y_pred_test)"
   ]
  },
  {
   "cell_type": "code",
   "execution_count": null,
   "metadata": {
    "collapsed": true
   },
   "outputs": [],
   "source": []
  }
 ],
 "metadata": {
  "kernelspec": {
   "display_name": "Python 3",
   "language": "python",
   "name": "python3"
  },
  "language_info": {
   "codemirror_mode": {
    "name": "ipython",
    "version": 3
   },
   "file_extension": ".py",
   "mimetype": "text/x-python",
   "name": "python",
   "nbconvert_exporter": "python",
   "pygments_lexer": "ipython3",
   "version": "3.6.4"
  }
 },
 "nbformat": 4,
 "nbformat_minor": 2
}
